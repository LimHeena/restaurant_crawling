{
 "cells": [
  {
   "cell_type": "code",
   "execution_count": 2,
   "metadata": {},
   "outputs": [],
   "source": [
    "#데이터베이스 활용 위해 pymysql 사용\n",
    "import pymysql\n",
    "connection = pymysql.connect(host=\"heena-db.cj3vpmozuotg.ap-northeast-2.rds.amazonaws.com\",\n",
    "port=3306,\n",
    "user=\"root\",\n",
    "password=\"12569432!!!**\",\n",
    "database=\"subproject1\",\n",
    "charset=\"utf8mb4\")"
   ]
  },
  {
   "cell_type": "code",
   "execution_count": 20,
   "metadata": {},
   "outputs": [
    {
     "data": {
      "text/html": [
       "<div>\n",
       "<style scoped>\n",
       "    .dataframe tbody tr th:only-of-type {\n",
       "        vertical-align: middle;\n",
       "    }\n",
       "\n",
       "    .dataframe tbody tr th {\n",
       "        vertical-align: top;\n",
       "    }\n",
       "\n",
       "    .dataframe thead th {\n",
       "        text-align: right;\n",
       "    }\n",
       "</style>\n",
       "<table border=\"1\" class=\"dataframe\">\n",
       "  <thead>\n",
       "    <tr style=\"text-align: right;\">\n",
       "      <th></th>\n",
       "      <th>가게이름</th>\n",
       "      <th>카테고리</th>\n",
       "      <th>위치</th>\n",
       "      <th>평점</th>\n",
       "      <th>리뷰수</th>\n",
       "    </tr>\n",
       "  </thead>\n",
       "  <tbody>\n",
       "    <tr>\n",
       "      <th>0</th>\n",
       "      <td>원조두꺼비집불오징어</td>\n",
       "      <td>해물 | 생선</td>\n",
       "      <td>서울 은평구 연서로28길 5 1 2층</td>\n",
       "      <td>4.3</td>\n",
       "      <td>206</td>\n",
       "    </tr>\n",
       "    <tr>\n",
       "      <th>1</th>\n",
       "      <td>구석집</td>\n",
       "      <td>호프 | 요리주점</td>\n",
       "      <td>서울 은평구 통일로83길 17-5 1층</td>\n",
       "      <td>3.7</td>\n",
       "      <td>157</td>\n",
       "    </tr>\n",
       "    <tr>\n",
       "      <th>2</th>\n",
       "      <td>백년가게 만포면옥 본점</td>\n",
       "      <td>한식</td>\n",
       "      <td>서울 은평구 연서로 171 1  2층</td>\n",
       "      <td>3.3</td>\n",
       "      <td>98</td>\n",
       "    </tr>\n",
       "    <tr>\n",
       "      <th>3</th>\n",
       "      <td>골목집갈비살</td>\n",
       "      <td>갈비</td>\n",
       "      <td>서울 은평구 연서로27길 12-9 1층</td>\n",
       "      <td>4.2</td>\n",
       "      <td>51</td>\n",
       "    </tr>\n",
       "    <tr>\n",
       "      <th>4</th>\n",
       "      <td>카페뤽상부르</td>\n",
       "      <td>커피전문점</td>\n",
       "      <td>서울 은평구 연서로25길 6-11 1  2층</td>\n",
       "      <td>3.8</td>\n",
       "      <td>100</td>\n",
       "    </tr>\n",
       "  </tbody>\n",
       "</table>\n",
       "</div>"
      ],
      "text/plain": [
       "           가게이름       카테고리                        위치   평점  리뷰수\n",
       "0    원조두꺼비집불오징어    해물 | 생선      서울 은평구 연서로28길 5 1 2층  4.3  206\n",
       "1           구석집  호프 | 요리주점     서울 은평구 통일로83길 17-5 1층  3.7  157\n",
       "2  백년가게 만포면옥 본점         한식      서울 은평구 연서로 171 1  2층  3.3   98\n",
       "3        골목집갈비살         갈비     서울 은평구 연서로27길 12-9 1층  4.2   51\n",
       "4        카페뤽상부르      커피전문점  서울 은평구 연서로25길 6-11 1  2층  3.8  100"
      ]
     },
     "execution_count": 20,
     "metadata": {},
     "output_type": "execute_result"
    }
   ],
   "source": [
    "#크롤링 한 파일 불러오기\n",
    "import pandas as pd\n",
    "restaurant_df = pd.read_csv('restaurant_crawling.csv', encoding='cp949')\n",
    "restaurant_df = restaurant_df.fillna(0) #NAN값 0으로 만들어주기 #그렇지 않으면 에러 뜸\n",
    "restaurant_df.head(5)"
   ]
  },
  {
   "cell_type": "code",
   "execution_count": 25,
   "metadata": {},
   "outputs": [],
   "source": [
    "#데이터베이스 테이블에 값 한번에 넣어주기\n",
    "with connection.cursor() as cursor:\n",
    "    sql = \"INSERT INTO `Restaurants`(`Name`, `Category`, `Address`, `Rating`, `Review_num`) VALUES(%s, %s, %s, %s, %s)\"\n",
    "    mylist=[]\n",
    "    \n",
    "    for index, row in restaurant_df.iterrows(): #csv파일 내용 한 줄씩 가져옴\n",
    "        mylist.append(tuple((row[0], row[1], row[2], float(row[3]), int(row[4]))))\n",
    "    \n",
    "    cursor.executemany(sql, mylist)\n",
    "    \n",
    "    connection.commit() "
   ]
  },
  {
   "cell_type": "code",
   "execution_count": 82,
   "metadata": {},
   "outputs": [
    {
     "name": "stdout",
     "output_type": "stream",
     "text": [
      "(('미각', '샤브샤브', '서울 은평구 연서로29길 10-1 1층', 4.9, 18), ('유토피아룸카페', '카페', '서울 은평구 연서로27길 16-8 2층', 5.0, 0), ('낭풍', '찌개 | 전골', '서울 은평구 연서로29길 11-2', 5.0, 11), ('무지개양꼬치 연신내점', '양꼬치', '서울 은평구 통일로83길 13 1층', 5.0, 14), ('로마네꽁띠', '와인바', '서울 종로구 북촌로1길 30-20', 5.0, 3), ('공공재커피클럽', '카페', '서울 종로구 윤보선길 35 1층 102호', 5.0, 46), ('행복한베이커리&카페 안국점', '제과 | 베이커리', '서울 종로구 윤보선길 17', 5.0, 0), ('보뜨', '테마카페', '서울 종로구 윤보선길 28 1층 2호', 5.0, 25), ('르콘토엘', '제과 | 베이커리', '서울 종로구 윤보선길 78 1층', 5.0, 16), ('아반떼', '술집', '서울 종로구 율곡로 55', 5.0, 0), ('조스키친', '음식점', '서울 종로구 율곡로3길 74-6', 5.0, 0), ('일월카츠', '돈까스 | 우동', '서울 종로구 계동길 17', 4.9, 116), ('냉장고', '육류 | 고기', '서울 마포구 와우산로 23 규민빌딩 1층 102호', 4.9, 59), ('철인7호치킨 홍대점', '치킨', '서울 마포구 양화로6길 99-3 반지하', 5.0, 64))\n"
     ]
    }
   ],
   "source": [
    "#평점이 4.9 이상인 것만 추출\n",
    "#distinct 사용하여 중복값 제거\n",
    "with connection.cursor() as cursor:\n",
    "    sql = \"SELECT DISTINCT * FROM `Restaurants` WHERE `Rating` >= %s\"\n",
    "    cursor.execute(sql, (float(4.9)))\n",
    "    result = cursor.fetchall()\n",
    "    print(result)"
   ]
  },
  {
   "cell_type": "code",
   "execution_count": 83,
   "metadata": {},
   "outputs": [
    {
     "name": "stdout",
     "output_type": "stream",
     "text": [
      "(('플럽커피', '카페', '서울 은평구 연서로29길 7-11 3층', 3.4, 139), ('탐나도다', '카페', '서울 은평구 통일로83길 5-14', 4.5, 12), ('코피티암', '카페', '서울 은평구 연서로27길 7-1 1 2층', 3.4, 32), ('제이츠커피브루어스', '카페', '서울 은평구 연서로25길 20-3 1층', 4.1, 30), ('유토피아룸카페', '카페', '서울 은평구 연서로27길 16-8 2층', 5.0, 0))\n"
     ]
    }
   ],
   "source": [
    "#카페만 추출\n",
    "#distinct 사용하여 중복값 제거\n",
    "with connection.cursor() as cursor:\n",
    "    sql = \"SELECT DISTINCT * FROM `Restaurants` WHERE `Category` = %s\"\n",
    "    cursor.execute(sql, ('카페'))\n",
    "    result = cursor.fetchall()\n",
    "    result = result[:5] #일단 5개만\n",
    "    print(result)"
   ]
  },
  {
   "cell_type": "code",
   "execution_count": 84,
   "metadata": {},
   "outputs": [
    {
     "name": "stdout",
     "output_type": "stream",
     "text": [
      "(('블루보틀 삼청 카페', '카페', '서울 종로구 북촌로5길 76 1~3층', 3.3, 931), ('황생가칼국수', '국수', '서울 종로구 북촌로5길 78', 3.6, 624), ('토속촌삼계탕', '삼계탕', '서울 종로구 자하문로5길 5', 3.7, 65), ('아키비스트', '카페', '서울 종로구 효자로13길 52 1층', 3.7, 702), ('스미스가 좋아하는 한옥', '이탈리안', '서울 종로구 삼청로 22-7', 3.0, 223))\n"
     ]
    }
   ],
   "source": [
    "#종로구만 추출\n",
    "#distinct 사용하여 중복값 제거\n",
    "with connection.cursor() as cursor:\n",
    "    sql = \"SELECT DISTINCT * FROM `Restaurants` WHERE `Address` LIKE '%종로구%'\"\n",
    "    cursor.execute(sql)\n",
    "    result = cursor.fetchall()\n",
    "    result = result[:5] #일단 5개만\n",
    "    print(result)"
   ]
  },
  {
   "cell_type": "code",
   "execution_count": 85,
   "metadata": {},
   "outputs": [
    {
     "name": "stdout",
     "output_type": "stream",
     "text": [
      "(('안녕인사동', '테마카페', '서울 종로구 인사동길 49', 4.1, 511), ('오레노라멘 인사점', '일본식라면', '서울 종로구 율곡로 49-4', 4.1, 537), ('다운타우너 안국', '햄버거', '서울 종로구 북촌로 6-4 1층', 4.1, 1081), ('포비 광화문점', '카페', '서울 종로구 종로3길 17 광화문D타워 1층 21호', 4.2, 530), ('어반플랜트 합정', '카페', '서울 마포구 독막로4길 3 1~3층', 4.2, 690))\n"
     ]
    }
   ],
   "source": [
    "#평점이 4.0 이상이고 리뷰수가 500개 이상인 것만 추출\n",
    "#distinct 사용하여 중복값 제거\n",
    "with connection.cursor() as cursor:\n",
    "    sql = \"SELECT DISTINCT * FROM `Restaurants` WHERE `Rating` >= 4.0 AND `Review_num` >= 500\"\n",
    "    cursor.execute(sql)\n",
    "    result = cursor.fetchall()\n",
    "    result = result[:5] #일단 5개만\n",
    "    print(result)"
   ]
  },
  {
   "cell_type": "code",
   "execution_count": null,
   "metadata": {},
   "outputs": [],
   "source": []
  }
 ],
 "metadata": {
  "kernelspec": {
   "display_name": "Python 3 (ipykernel)",
   "language": "python",
   "name": "python3"
  },
  "language_info": {
   "codemirror_mode": {
    "name": "ipython",
    "version": 3
   },
   "file_extension": ".py",
   "mimetype": "text/x-python",
   "name": "python",
   "nbconvert_exporter": "python",
   "pygments_lexer": "ipython3",
   "version": "3.10.9"
  },
  "vscode": {
   "interpreter": {
    "hash": "31f2aee4e71d21fbe5cf8b01ff0e069b9275f58929596ceb00d14d90e3e16cd6"
   }
  }
 },
 "nbformat": 4,
 "nbformat_minor": 2
}
