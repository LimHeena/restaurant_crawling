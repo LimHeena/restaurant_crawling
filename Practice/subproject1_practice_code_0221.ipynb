{
 "cells": [
  {
   "cell_type": "markdown",
   "id": "512a45a2",
   "metadata": {},
   "source": [
    "## 구글 크롤링 실패,,"
   ]
  },
  {
   "cell_type": "code",
   "execution_count": null,
   "id": "34264655",
   "metadata": {},
   "outputs": [],
   "source": [
    "location_dic = {'연신내':[[37.621041,126.92247139999998],[37.6170009,126.91719699999997]],\n",
    "               '경복궁':[[37.579858300000005,126.9743492],[37.5716623,126.96924469999999]],\n",
    "               '안국':[[37.5808661,126.987307],[37.5743757,126.98340189999999]],\n",
    "               '종로':[[37.574208899999995,127.012165],[37.56822,126.98195839999998]],\n",
    "               '홍대':[[37.5592508,126.92980209999999],[37.5486791,126.91954989999999]]}"
   ]
  },
  {
   "cell_type": "code",
   "execution_count": null,
   "id": "8d475af0",
   "metadata": {},
   "outputs": [],
   "source": [
    "location_list = ['q=연신내+맛집&biw=760&bih=708&tbm=lcl&sxsrf=AJOqlzX2LNG6xCHBoJnhQaSPrg3nvqkYQQ%3A1676867671889&ei=V_jyY9zlNdXu-Qaf0YKQAQ&ved=0ahUKEwic7avvoqP9AhVVd94KHZ-oABIQ4dUDCAk&uact=5&oq=연신내+맛집&gs_lcp=Cg1nd3Mtd2l6LWxvY2FsEAMyCQgAEAcQHhDxBDIJCAAQBxAeEPEEMgkIABAHEB4Q8QQyCQgAEAcQHhDxBDIGCAAQBxAeMgkIABAHEB4Q8QQyCQgAEAcQHhDxBDIJCAAQBxAeEPEEMgkIABAHEB4Q8QQyCQgAEAcQHhDxBFAAWOAFYMQGaABwAHgAgAGQAYgBtQeSAQMwLjeYAQCgAQHAAQE&sclient=gws-wiz-local#rlfi=hd:;si:;mv:[[37.621008499999995,126.92247139999998],[37.617575099999996,126.91719699999997]];tbs:lrf:!1m4!1u3!2m2!3m1!1e1!1m4!1u2!2m2!2m1!1e1!2m1!1e2!2m1!1e3!3sIAE,lf:1,lf_ui:9',\n",
    "               'q=경복궁+맛집&biw=760&bih=708&tbm=lcl&sxsrf=AJOqlzXSwKCwG7NSbC1eaUg942UlcVcX8Q%3A1676867703924&ei=d_jyY6mJONm8wAOl6LyYDQ&ved=0ahUKEwjpoM_-oqP9AhVZHnAKHSU0D9MQ4dUDCAk&uact=5&oq=경복궁+맛집&gs_lcp=Cg1nd3Mtd2l6LWxvY2FsEAMyBAgAEEMyBQgAEIAEMgkIABAHEB4Q8QQyCQgAEAcQHhDxBDIJCAAQBxAeEPEEMgUIABCABDIGCAAQBxAeMgUIABCABDIJCAAQBxAeEPEEMgYIABAHEB46CAghEKABEMMEOgcIABANEIAEUPgIWPEOYP0PaABwAHgAgAHfAYgBrQqSAQUwLjkuMZgBAKABAcABAQ&sclient=gws-wiz-local#rlfi=hd:;si:;mv:[[37.579858300000005,126.9743492],[37.5716623,126.96924469999999]];tbs:lrf:!1m4!1u3!2m2!3m1!1e1!1m4!1u2!2m2!2m1!1e1!2m1!1e2!2m1!1e3!3sIAE,lf:1,lf_ui:9',\n",
    "                'q=안국+맛집&biw=760&bih=708&tbm=lcl&sxsrf=AJOqlzXpcPFAYLr-o7Y14idIFYlLuSlU3A%3A1676867747647&ei=o_jyY-yUJ4GghwP02L64DA&ved=0ahUKEwis8ruTo6P9AhUB0GEKHXSsD8cQ4dUDCAk&uact=5&oq=안국+맛집&gs_lcp=Cg1nd3Mtd2l6LWxvY2FsEAMyBwgAEA0QgAQyCwgAEAUQHhANEPEEOgQIABBDOgUIABCABDoGCAAQHhAPOgQIABAeOgkIABAeEA8Q8QQ6CAghEKABEMMEOgkIABAHEB4Q8QQ6BggAEAcQHjoICAAQHhANEA9QwAlYmRVgixZoA3AAeACAAYIBiAHoBpIBAzAuN5gBAKABAcABAQ&sclient=gws-wiz-local#rlfi=hd:;si:;mv:[[37.5808661,126.987307],[37.5743757,126.98340189999999]];tbs:lrf:!1m4!1u3!2m2!3m1!1e1!1m4!1u2!2m2!2m1!1e1!2m1!1e2!2m1!1e3!3sIAE,lf:1,lf_ui:9',\n",
    "                'q=종로+맛집&biw=760&bih=708&tbm=lcl&sxsrf=AJOqlzUBBoJ6SdZWGZk00lHbwSNOA6yI5A%3A1676867615295&ei=H_jyY7jaEYihhwPP8bSADg&ved=0ahUKEwj45a3UoqP9AhWI0GEKHc84DeAQ4dUDCAk&uact=5&oq=종로+맛집&gs_lcp=Cg1nd3Mtd2l6LWxvY2FsEANQAFiaA2COBGgAcAB4AIABgwGIAYIEkgEDMC40mAEAoAEBwAEB&sclient=gws-wiz-local#rlfi=hd:;si:;mv:[[37.574208899999995,127.012165],[37.56822,126.98195839999998]];tbs:lrf:!1m4!1u3!2m2!3m1!1e1!1m4!1u2!2m2!2m1!1e1!1m4!1u1!2m2!1m1!1e1!1m4!1u1!2m2!1m1!1e2!2m1!1e2!2m1!1e1!2m1!1e3!3sIAE,lf:1,lf_ui:9',\n",
    "               'q=홍대+맛집&biw=760&bih=708&tbm=lcl&sxsrf=AJOqlzUxaUQfW8KTy7qmFZ7DOEHMy-iq2w%3A1676867645895&ei=PfjyY_KoNt6S1e8P0KGV-AU&ved=0ahUKEwiyu_nioqP9AhVeSfUHHdBQBV8Q4dUDCAk&uact=5&oq=홍대+맛집&gs_lcp=Cg1nd3Mtd2l6LWxvY2FsEAMyCwgAEIAEELEDEIMBMgUIABCABDIFCAAQgAQyBQgAEIAEMgUIABCABDIFCAAQgAQyBQgAEIAEMgYIABAHEB4yBggAEAcQHjIGCAAQBxAeOgQIABBDOgcIABAeEPEEOgkIABAHEB4Q8QRQnAlY2wxgzBJoAHAAeACAAZUBiAGfBpIBAzAuNpgBAKABAcABAQ&sclient=gws-wiz-local#rlfi=hd:;si:;mv:[[37.5592508,126.92980209999999],[37.5486791,126.91954989999999]];tbs:lrf:!1m4!1u3!2m2!3m1!1e1!1m4!1u2!2m2!2m1!1e1!2m1!1e2!2m1!1e3!3sIAE,lf:1,lf_ui:9']"
   ]
  },
  {
   "cell_type": "code",
   "execution_count": null,
   "id": "b087f856",
   "metadata": {},
   "outputs": [],
   "source": [
    "import requests\n",
    "from bs4 import BeautifulSoup\n",
    "for i in location_list:\n",
    "    response = requests.get(URL+parameters.format(i))\n",
    "    print(URL+parameters.format(i))"
   ]
  },
  {
   "cell_type": "code",
   "execution_count": null,
   "id": "61144037",
   "metadata": {},
   "outputs": [],
   "source": [
    "from selenium import webdriver\n",
    "from selenium.webdriver.chrome.service import Service\n",
    "from webdriver_manager.chrome import ChromeDriverManager\n",
    "driver = webdriver.Chrome(service=Service(ChromeDriverManager().install()))"
   ]
  },
  {
   "cell_type": "code",
   "execution_count": null,
   "id": "f14af139",
   "metadata": {},
   "outputs": [],
   "source": [
    "URL = 'https://www.google.com/search?q=연신내+맛집&biw=760&bih=708&tbm=lcl&sxsrf=AJOqlzX2LNG6xCHBoJnhQaSPrg3nvqkYQQ%3A1676867671889&ei=V_jyY9zlNdXu-Qaf0YKQAQ&ved=0ahUKEwic7avvoqP9AhVVd94KHZ-oABIQ4dUDCAk&uact=5&oq=연신내+맛집&gs_lcp=Cg1nd3Mtd2l6LWxvY2FsEAMyCQgAEAcQHhDxBDIJCAAQBxAeEPEEMgkIABAHEB4Q8QQyCQgAEAcQHhDxBDIGCAAQBxAeMgkIABAHEB4Q8QQyCQgAEAcQHhDxBDIJCAAQBxAeEPEEMgkIABAHEB4Q8QQyCQgAEAcQHhDxBFAAWOAFYMQGaABwAHgAgAGQAYgBtQeSAQMwLjeYAQCgAQHAAQE&sclient=gws-wiz-local#rlfi=hd:;si:;mv:[[37.621008499999995,126.92247139999998],[37.617575099999996,126.91719699999997]];tbs:lrf:!1m4!1u3!2m2!3m1!1e1!1m4!1u2!2m2!2m1!1e1!2m1!1e2!2m1!1e3!3sIAE,lf:1,lf_ui:9'\n",
    "headers = {'user-agent': 'Mozilla/5.0 (Windows NT 10.0; Win64; x64) AppleWebKit/537.36 (KHTML, like Gecko) Chrome/110.0.0.0 Safari/537.36'}\n",
    "response = requests.get(URL, headers=headers) #headers 안 넣어주는 경우, 결과 나오지 않음"
   ]
  },
  {
   "cell_type": "code",
   "execution_count": null,
   "id": "2bec6491",
   "metadata": {},
   "outputs": [],
   "source": [
    "soup = BeautifulSoup(response.text, 'html.parser')\n",
    "restaurant_list = soup.select('.rl_tile-group div[jscontroller=\"AtSb\"]')\n",
    "restaurant_list"
   ]
  },
  {
   "cell_type": "code",
   "execution_count": null,
   "id": "de24eb24",
   "metadata": {},
   "outputs": [],
   "source": [
    "for restaurant in restaurant_list:\n",
    "    name = restaurant.select_one('.OSrXXb').text.strip()\n",
    "    location = restaurant.select('div')[15].text.strip()\n",
    "    category = restaurant.select('div')[14].text[8:].replace('·','').replace('\\\\','').split('\\n')[-1].split(')')[-1].split('\\\\')[-1].strip()\n",
    "    rating = restaurant.select('div')[6].text.strip()\n",
    "    print(f'가게이름: {name}, 위치: {location}, 카테고리: {category}, 평점: {rating}')"
   ]
  },
  {
   "cell_type": "code",
   "execution_count": null,
   "id": "d34962c5",
   "metadata": {},
   "outputs": [],
   "source": [
    "https://www.google.com/search?q=%EC%97%B0%EC%8B%A0%EB%82%B4+%EB%A7%9B%EC%A7%91&hl=ko&biw=867&bih=714&tbm=lcl&sxsrf=AJOqlzU3K6KnOnGjzY7Qzai3dyRbCRhSoQ%3A1676876083647&ei=MxnzY7SJJ7eA2roPz-urkAU&ved=0ahUKEwj07rCawqP9AhU3gFYBHc_1ClIQ4dUDCAk&uact=5&oq=%EC%97%B0%EC%8B%A0%EB%82%B4+%EB%A7%9B%EC%A7%91&gs_lcp=Cg1nd3Mtd2l6LWxvY2FsEAMyBAgAEEMyBQgAEIAEMgUIABCABDIHCAAQHhDxBDIECAAQHjIJCAAQHhAPEPEEMgYIABAeEA8yBwgAEB4Q8QQyBAgAEB4yBwgAEB4Q8QRQAFgAYNEDaABwAHgAgAFqiAFqkgEDMC4xmAEAwAEB&sclient=gws-wiz-local#rlfi=hd:;si:;mv:[[37.6210023,126.92246440000001],[37.6176855,126.9173197]]\n",
    "https://www.google.com/search?q=%EC%97%B0%EC%8B%A0%EB%82%B4+%EB%A7%9B%EC%A7%91&hl=ko&biw=867&bih=714&tbm=lcl&sxsrf=AJOqlzU3K6KnOnGjzY7Qzai3dyRbCRhSoQ%3A1676876083647&ei=MxnzY7SJJ7eA2roPz-urkAU&ved=0ahUKEwj07rCawqP9AhU3gFYBHc_1ClIQ4dUDCAk&uact=5&oq=%EC%97%B0%EC%8B%A0%EB%82%B4+%EB%A7%9B%EC%A7%91&gs_lcp=Cg1nd3Mtd2l6LWxvY2FsEAMyBAgAEEMyBQgAEIAEMgUIABCABDIHCAAQHhDxBDIECAAQHjIJCAAQHhAPEPEEMgYIABAeEA8yBwgAEB4Q8QQyBAgAEB4yBwgAEB4Q8QRQAFgAYNEDaABwAHgAgAFqiAFqkgEDMC4xmAEAwAEB&sclient=gws-wiz-local#rlfi=hd:;si:;mv:[[37.6220256,126.92328149999997],[37.6169451,126.91691689999999]];start:20\n",
    "https://www.google.com/search?q=%EC%97%B0%EC%8B%A0%EB%82%B4+%EB%A7%9B%EC%A7%91&hl=ko&biw=867&bih=714&tbm=lcl&sxsrf=AJOqlzU3K6KnOnGjzY7Qzai3dyRbCRhSoQ%3A1676876083647&ei=MxnzY7SJJ7eA2roPz-urkAU&ved=0ahUKEwj07rCawqP9AhU3gFYBHc_1ClIQ4dUDCAk&uact=5&oq=%EC%97%B0%EC%8B%A0%EB%82%B4+%EB%A7%9B%EC%A7%91&gs_lcp=Cg1nd3Mtd2l6LWxvY2FsEAMyBAgAEEMyBQgAEIAEMgUIABCABDIHCAAQHhDxBDIECAAQHjIJCAAQHhAPEPEEMgYIABAeEA8yBwgAEB4Q8QQyBAgAEB4yBwgAEB4Q8QRQAFgAYNEDaABwAHgAgAFqiAFqkgEDMC4xmAEAwAEB&sclient=gws-wiz-local#rlfi=hd:;si:;mv:[[37.629473411357374,126.94433564065852],[37.61047174206389,126.91133374093928],null,[37.6199731837729,126.9278346907989],15];start:40"
   ]
  },
  {
   "cell_type": "code",
   "execution_count": null,
   "id": "f7c63678",
   "metadata": {},
   "outputs": [],
   "source": [
    "from selenium import webdriver\n",
    "import Config\n",
    "from selenium.webdriver.common.by import By\n",
    "options = webdriver.ChromeOptions()\n",
    "options.add_argument(\"user-agent=Mozilla/5.0 (Windows NT 10.0; Win64; x64) AppleWebKit/537.36 (KHTML, like Gecko) Chrome/110.0.0.0 Safari/537.36\")\n",
    "\n",
    "URL = 'https://www.google.com/search?q=연신내+맛집&biw=760&bih=708&tbm=lcl&sxsrf=AJOqlzX2LNG6xCHBoJnhQaSPrg3nvqkYQQ%3A1676867671889&ei=V_jyY9zlNdXu-Qaf0YKQAQ&ved=0ahUKEwic7avvoqP9AhVVd94KHZ-oABIQ4dUDCAk&uact=5&oq=연신내+맛집&gs_lcp=Cg1nd3Mtd2l6LWxvY2FsEAMyCQgAEAcQHhDxBDIJCAAQBxAeEPEEMgkIABAHEB4Q8QQyCQgAEAcQHhDxBDIGCAAQBxAeMgkIABAHEB4Q8QQyCQgAEAcQHhDxBDIJCAAQBxAeEPEEMgkIABAHEB4Q8QQyCQgAEAcQHhDxBFAAWOAFYMQGaABwAHgAgAGQAYgBtQeSAQMwLjeYAQCgAQHAAQE&sclient=gws-wiz-local#rlfi=hd:;si:;mv:[[37.621008499999995,126.92247139999998],[37.617575099999996,126.91719699999997]];tbs:lrf:!1m4!1u3!2m2!3m1!1e1!1m4!1u2!2m2!2m1!1e1!2m1!1e2!2m1!1e3!3sIAE,lf:1,lf_ui:9'\n",
    "driver = webdriver.Chrome(executable_paht=Config.CONFIG['CHROMEPATH'],options=options)                     \n",
    "driver.get(URL)"
   ]
  },
  {
   "cell_type": "code",
   "execution_count": null,
   "id": "5939923d",
   "metadata": {},
   "outputs": [],
   "source": [
    "#https://www.google.com/search?q=%EC%97%B0%EC%8B%A0%EB%82%B4+%EB%A7%9B%EC%A7%91&biw=732&bih=666&sz=0&tbm=lcl&ei=fRj0Y-bsKP_g2roP9Ouy4Aw&ved=0ahUKEwimn87VtaX9AhV_sFYBHfS1DMwQ4dUDCAk&uact=5&oq=%EC%97%B0%EC%8B%A0%EB%82%B4+%EB%A7%9B%EC%A7%91&gs_lcp=Cg1nd3Mtd2l6LWxvY2FsEAMyBAgAEEMyBQgAEIAEMgUIABCABDIHCAAQHhDxBDIECAAQHjIJCAAQHhAPEPEEMgYIABAeEA8yBwgAEB4Q8QQyBAgAEB4yBwgAEB4Q8QQ6CwgAEIAEELEDEIMBOgcIABCABBAKOgQIABADOggIABCABBCxA1DnB1i9IWC7ImgFcAB4AIABqgGIAc4UkgEEMC4yMJgBAKABAbABAMABAQ&sclient=gws-wiz-local#rlfi=hd:;si:;mv:[[37.621015,126.92247339999999],[37.617461399999996,126.9169627]];tbs:lrf:!1m4!1u3!2m2!3m1!1e1!1m4!1u2!2m2!2m1!1e1!2m1!1e2!2m1!1e3!3sIAE,lf:1,lf_ui:9\n",
    "driver.get('https://www.google.com/search?q=%EC%97%B0%EC%8B%A0%EB%82%B4+%EB%A7%9B%EC%A7%91&biw=732&bih=666&sz=0&tbm=lcl&ei=fRj0Y-bsKP_g2roP9Ouy4Aw&ved=0ahUKEwimn87VtaX9AhV_sFYBHfS1DMwQ4dUDCAk&uact=5&oq=%EC%97%B0%EC%8B%A0%EB%82%B4+%EB%A7%9B%EC%A7%91&gs_lcp=Cg1nd3Mtd2l6LWxvY2FsEAMyBAgAEEMyBQgAEIAEMgUIABCABDIHCAAQHhDxBDIECAAQHjIJCAAQHhAPEPEEMgYIABAeEA8yBwgAEB4Q8QQyBAgAEB4yBwgAEB4Q8QQ6CwgAEIAEELEDEIMBOgcIABCABBAKOgQIABADOggIABCABBCxA1DnB1i9IWC7ImgFcAB4AIABqgGIAc4UkgEEMC4yMJgBAKABAbABAMABAQ&sclient=gws-wiz-local#rlfi=hd:;si:;mv:[[37.621015,126.92247339999999],[37.617461399999996,126.9169627]];tbs:lrf:!1m4!1u3!2m2!3m1!1e1!1m4!1u2!2m2!2m1!1e1!2m1!1e2!2m1!1e3!3sIAE,lf:1,lf_ui:9')"
   ]
  },
  {
   "cell_type": "code",
   "execution_count": null,
   "id": "fbf095c5",
   "metadata": {},
   "outputs": [],
   "source": [
    "restaurant_list = driver.find_elements(By.CSS_SELECTOR, '.rl_tile-group div[jscontroller=\"AtSb\"]')\n",
    "restaurant_list"
   ]
  },
  {
   "cell_type": "code",
   "execution_count": null,
   "id": "dbf15264",
   "metadata": {},
   "outputs": [],
   "source": [
    "import time\n",
    "\n",
    "for restaurant in restaurant_list:\n",
    "    name = restaurant.find_element(By.CSS_SELECTOR, '.OSrXXb').text.strip()\n",
    "    location = restaurant.find_elements(By.CSS_SELECTOR, 'div')[15].text.strip()\n",
    "    category = restaurant.find_elements(By.CSS_SELECTOR, 'div')[14].text[8:].replace('·','').replace('\\\\','').split('\\n')[-1].split(')')[-1].split('\\\\')[-1].strip()\n",
    "    rating = restaurant.find_elements(By.CSS_SELECTOR, 'div')[6].text.strip()\n",
    "    print(f'가게이름: {name}, 위치: {location}, 카테고리: {category}, 평점: {rating}')\n",
    "#     time.sleep(2)"
   ]
  },
  {
   "cell_type": "code",
   "execution_count": null,
   "id": "14312321",
   "metadata": {},
   "outputs": [],
   "source": [
    "#첫 페이지\n",
    "driver.get('https://www.google.com/search?q=%EC%97%B0%EC%8B%A0%EB%82%B4+%EB%A7%9B%EC%A7%91&hl=ko&biw=1163&bih=714&tbm=lcl&sxsrf=AJOqlzXPaB1FibnkCrUa36rgbXQ1ccWz-Q%3A1676889914315&ei=Ok_zY8vWEtml2roPhoOjmAU&ved=0ahUKEwjL263d9aP9AhXZklYBHYbBCFMQ4dUDCAk&uact=5&oq=%EC%97%B0%EC%8B%A0%EB%82%B4+%EB%A7%9B%EC%A7%91&gs_lcp=Cg1nd3Mtd2l6LWxvY2FsEAMyBAgAEEMyBQgAEIAEMgUIABCABDIHCAAQHhDxBDIECAAQHjIJCAAQHhAPEPEEMgYIABAeEA8yBwgAEB4Q8QQyBAgAEB4yBwgAEB4Q8QRQAFgAYOMDaABwAHgAgAF1iAF1kgEDMC4xmAEAwAEB&sclient=gws-wiz-local#rlfi=hd:;si:;mv:[[37.6210023,126.92246440000001],[37.6176855,126.9173197]];tbs:lrf:!1m4!1u3!2m2!3m1!1e1!1m4!1u2!2m2!2m1!1e1!2m1!1e2!2m1!1e3!3sIAE,lf:1,lf_ui:9')\n",
    "import time\n",
    "\n",
    "for next_page in range(2, 11):\n",
    "    #맨 밑으로 이동\n",
    "    #driver.execute_script(\"window.scrollTo(0,document.body.scrollHeight);\")\n",
    "    \n",
    "    page_elem = driver.find_element(By.CSS_SELECTOR, 'table tbody a[aria-label=\"Page 2\"]')\n",
    "    page_elem.click()\n",
    "    time.sleep(5)\n",
    "    \n",
    "    for restaurant in restaurant_list:\n",
    "        name = restaurant.find_element(By.CSS_SELECTOR, '.OSrXXb').text.strip()\n",
    "        location = restaurant.find_elements(By.CSS_SELECTOR, 'div')[15].text.strip()\n",
    "        category = restaurant.find_elements(By.CSS_SELECTOR, 'div')[14].text[8:].replace('·','').replace('\\\\','').split('\\n')[-1].split(')')[-1].split('\\\\')[-1].strip()\n",
    "        rating = restaurant.find_elements(By.CSS_SELECTOR, 'div')[6].text.strip()\n",
    "        print(f'가게이름: {name}, 위치: {location}, 카테고리: {category}, 평점: {rating}')\n",
    "    \n",
    "    time.sleep(3)"
   ]
  },
  {
   "cell_type": "code",
   "execution_count": null,
   "id": "451e8e4a",
   "metadata": {},
   "outputs": [],
   "source": [
    "#필요 모듈 임포트\n",
    "import requests\n",
    "from bs4 import BeautifulSoup\n",
    "from selenium import webdriver\n",
    "from selenium.webdriver.chrome.service import Service\n",
    "from webdriver_manager.chrome import ChromeDriverManager\n",
    "driver = webdriver.Chrome(service=Service(ChromeDriverManager().install()))\n",
    "from selenium.webdriver.common.by import By\n",
    "import time"
   ]
  },
  {
   "cell_type": "code",
   "execution_count": null,
   "id": "4e6aae1d",
   "metadata": {},
   "outputs": [],
   "source": [
    "driver.get('https://www.google.com/search?q=%EC%97%B0%EC%8B%A0%EB%82%B4+%EB%A7%9B%EC%A7%91&hl=ko&biw=1036&bih=666&sz=0&tbm=lcl&ei=2kP0Y9OMNOCu2roPvJKMqAY&ved=0ahUKEwjT4YiD36X9AhVgl1YBHTwJA2UQ4dUDCAk&uact=5&oq=%EC%97%B0%EC%8B%A0%EB%82%B4+%EB%A7%9B%EC%A7%91&gs_lcp=Cg1nd3Mtd2l6LWxvY2FsEAMyBAgAEEMyBQgAEIAEMgUIABCABDIHCAAQHhDxBDIECAAQHjIJCAAQHhAPEPEEMgYIABAeEA8yBwgAEB4Q8QQyBAgAEB4yBwgAEB4Q8QRQAFgAYLwFaAFwAHgAgAF1iAF1kgEDMC4xmAEAwAEB&sclient=gws-wiz-local#rlfi=hd:;si:;mv:[[37.621015,126.9224486],[37.617461399999996,126.9175982]];tbs:lrf:!1m4!1u3!2m2!3m1!1e1!1m4!1u2!2m2!2m1!1e1!2m1!1e2!2m1!1e3!3sIAE,lf:1,lf_ui:9')"
   ]
  },
  {
   "cell_type": "code",
   "execution_count": null,
   "id": "94395b44",
   "metadata": {},
   "outputs": [],
   "source": [
    "restaurant_list = driver.find_elements(By.CSS_SELECTOR, '.rl_tile-group div[jscontroller=\"AtSb\"]')\n",
    "restaurant_list"
   ]
  },
  {
   "cell_type": "code",
   "execution_count": null,
   "id": "d95f94fb",
   "metadata": {},
   "outputs": [],
   "source": [
    "\n",
    "    for restaurant in restaurant_list:\n",
    "        try:    \n",
    "            name = restaurant.find_element(By.CSS_SELECTOR, '.OSrXXb').text.strip()\n",
    "            location = restaurant.find_elements(By.CSS_SELECTOR, 'div')[7].text.strip()\n",
    "            category = restaurant.find_elements(By.CSS_SELECTOR, 'div')[6].text[9:].replace('·','').replace('\\\\','').split(')')[-1].split('\\\\')[-1].strip()\n",
    "            rating = restaurant.find_elements(By.CSS_SELECTOR, '.yi40Hd')[0].text.strip()\n",
    "            print(f'가게이름: {name}, 위치: {location}, 카테고리: {category}, 평점: {rating}')\n",
    "            #time.sleep(2)\n",
    "        except:\n",
    "            pass"
   ]
  },
  {
   "cell_type": "code",
   "execution_count": null,
   "id": "ebc9a9a5",
   "metadata": {},
   "outputs": [],
   "source": [
    "div_tags = driver.find_elements(By.CSS_SELECTOR, '.rlfl__tls div[jscontroller=\"AtSb\"]')\n"
   ]
  }
 ],
 "metadata": {
  "kernelspec": {
   "display_name": "Python 3 (ipykernel)",
   "language": "python",
   "name": "python3"
  },
  "language_info": {
   "codemirror_mode": {
    "name": "ipython",
    "version": 3
   },
   "file_extension": ".py",
   "mimetype": "text/x-python",
   "name": "python",
   "nbconvert_exporter": "python",
   "pygments_lexer": "ipython3",
   "version": "3.10.9"
  }
 },
 "nbformat": 4,
 "nbformat_minor": 5
}
